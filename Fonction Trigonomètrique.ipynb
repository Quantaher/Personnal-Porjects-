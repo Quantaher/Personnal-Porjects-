{
 "cells": [
  {
   "cell_type": "code",
   "execution_count": 1,
   "id": "2c0ad5ae-600d-4702-b8cc-dc63775123fc",
   "metadata": {},
   "outputs": [
    {
     "name": "stdout",
     "output_type": "stream",
     "text": [
      "Solutions sont x= -9.0 et x= 15.0\n"
     ]
    }
   ],
   "source": [
    "a=3\n",
    "b=-2\n",
    "c=-1\n",
    "Delta = b**2 -4*a*c \n",
    "def polynôme(a,b,c):\n",
    "  Delta = b**2 -4*a*c \n",
    "  x1= (-b-(Delta**1/2))/2*a\n",
    "  x2= (-b+(Delta**1/2))/2*a\n",
    "  x0=-b/(2*a)\n",
    "  if Delta > 0:\n",
    "    return f\"Solutions sont x= {x1} et x= {x2}\"\n",
    "  elif Delta < 0:\n",
    "    return \"Pas de resultat dans l'ensemble R\"\n",
    "  else:\n",
    "    return f\"Unique solution x= {x0} \"\n",
    "  \n",
    "\n",
    "print(polynôme(3,-2,-1))"
   ]
  },
  {
   "cell_type": "code",
   "execution_count": null,
   "id": "dff5bca5-8162-42ef-816e-36286e8372e6",
   "metadata": {},
   "outputs": [],
   "source": []
  }
 ],
 "metadata": {
  "kernelspec": {
   "display_name": "Python 3 (ipykernel)",
   "language": "python",
   "name": "python3"
  },
  "language_info": {
   "codemirror_mode": {
    "name": "ipython",
    "version": 3
   },
   "file_extension": ".py",
   "mimetype": "text/x-python",
   "name": "python",
   "nbconvert_exporter": "python",
   "pygments_lexer": "ipython3",
   "version": "3.12.7"
  }
 },
 "nbformat": 4,
 "nbformat_minor": 5
}
